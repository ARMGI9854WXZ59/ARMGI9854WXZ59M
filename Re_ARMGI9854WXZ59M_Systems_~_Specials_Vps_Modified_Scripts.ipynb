{
  "nbformat": 4,
  "nbformat_minor": 0,
  "metadata": {
    "colab": {
      "provenance": [],
      "gpuType": "T4",
      "authorship_tag": "ABX9TyMLtlXdAytaaun8ddAFUnZn",
      "include_colab_link": true
    },
    "kernelspec": {
      "name": "python3",
      "display_name": "Python 3"
    },
    "language_info": {
      "name": "python"
    },
    "accelerator": "GPU"
  },
  "cells": [
    {
      "cell_type": "markdown",
      "metadata": {
        "id": "view-in-github",
        "colab_type": "text"
      },
      "source": [
        "<a href=\"https://colab.research.google.com/github/ARMGI9854WXZ59M/ARMGI9854WXZ59M/blob/Master/Re_ARMGI9854WXZ59M_Systems_~_Specials_Vps_Modified_Scripts.ipynb\" target=\"_parent\"><img src=\"https://colab.research.google.com/assets/colab-badge.svg\" alt=\"Open In Colab\"/></a>"
      ]
    },
    {
      "cell_type": "markdown",
      "source": [
        "**`# ARMGI9854WXZ59M Systems Specials Vps Modified Scripts. #`**"
      ],
      "metadata": {
        "id": "BDwLLWELsfl1"
      }
    },
    {
      "cell_type": "markdown",
      "source": [
        "**`ARMGI9854WXZ59M_VpsScript`**"
      ],
      "metadata": {
        "id": "K6g0NUaOtNZB"
      }
    },
    {
      "cell_type": "code",
      "source": [
        "%%shell\n",
        "\n",
        "#!/usr/bin/env sh\n",
        "\n",
        "# Function to install packages based on the package manager\n",
        "install_packages() {\n",
        "    case $PKG_MANAGER in\n",
        "        apt)\n",
        "            sudo apt-get update\n",
        "            sudo apt-get install -y \"$@\"\n",
        "            ;;\n",
        "        dnf)\n",
        "            sudo dnf install -y \"$@\"\n",
        "            ;;\n",
        "        pacman)\n",
        "            sudo pacman -Syu --noconfirm \"$@\"\n",
        "            ;;\n",
        "        *)\n",
        "            echo \"Unsupported package manager.\"\n",
        "            exit 1\n",
        "            ;;\n",
        "    esac\n",
        "}\n",
        "\n",
        "# Detect the operating system\n",
        "OS=$(uname -s | tr A-Z a-z)\n",
        "\n",
        "# Determine the package manager\n",
        "if command -v apt-get >/dev/null 2>&1; then\n",
        "    PKG_MANAGER=\"apt\"\n",
        "elif command -v dnf >/dev/null 2>&1; then\n",
        "    PKG_MANAGER=\"dnf\"\n",
        "elif command -v pacman >/dev/null 2>&1; then\n",
        "    PKG_MANAGER=\"pacman\"\n",
        "else\n",
        "    echo \"Unsupported package manager.\"\n",
        "    exit 1\n",
        "fi\n",
        "\n",
        "# Install necessary packages\n",
        "install_packages openssh-server vim htop python3\n",
        "\n",
        "# Set up SSH\n",
        "sudo mkdir /var/run/sshd\n",
        "echo 'root:ARMGI9854WXZ59M_VpsM9' | sudo chpasswd\n",
        "sudo sed -i 's/#PermitRootLogin prohibit-password/PermitRootLogin yes/' /etc/ssh/sshd_config\n",
        "sudo service ssh restart\n",
        "\n",
        "# Install additional tools (optional)\n",
        "install_packages screen tmux dvtm\n",
        "\n",
        "# Install and configure VNC\n",
        "install_packages tightvncserver sddm kde-full\n",
        "\n",
        "# Install zsh and set it as the default shell\n",
        "install_packages zsh\n",
        "sudo chsh -s /bin/zsh\n",
        "\n",
        "# Install Oh My Zsh and Powerlevel10k for default user\n",
        "sh -c \"$(curl -fsSL https://raw.githubusercontent.com/ohmyzsh/ohmyzsh/master/tools/install.sh)\"\n",
        "git clone --depth=1 https://github.com/romkatv/powerlevel10k.git ~/.oh-my-zsh/themes/powerlevel10k\n",
        "echo 'source ~/.oh-my-zsh/themes/powerlevel10k/powerlevel10k.zsh-theme' >> ~/.zshrc\n",
        "\n",
        "# Install Oh My Zsh and Powerlevel10k for root\n",
        "sudo sh -c \"$(curl -fsSL https://raw.githubusercontent.com/ohmyzsh/ohmyzsh/master/tools/install.sh)\"\n",
        "sudo git clone --depth=1 https://github.com/romkatv/powerlevel10k.git /root/.oh-my-zsh/themes/powerlevel10k\n",
        "echo 'source /root/.oh-my-zsh/themes/powerlevel10k/powerlevel10k.zsh-theme' | sudo tee -a /root/.zshrc\n",
        "\n",
        "# Create a Python script to run on the VPS\n",
        "cat <<'EOF' > vps_script.py\n",
        "import time\n",
        "\n",
        "def main():\n",
        "    print(\"Welcome to your VPS!\")\n",
        "    while True:\n",
        "        print(\"VPS is running...\")\n",
        "        time.sleep(60)\n",
        "\n",
        "if __name__ == \"__main__\":\n",
        "    main()\n",
        "EOF\n",
        "\n",
        "# Run the Python script in the background\n",
        "nohup python3 vps_script.py &\n",
        "\n",
        "echo \"VPS setup complete!\"\n",
        "echo \"Connect to your VPS using SSH or VNC.\"\n",
        "\n",
        "\n",
        "\n"
      ],
      "metadata": {
        "id": "oTmU9K9bsmfI"
      },
      "execution_count": null,
      "outputs": []
    },
    {
      "cell_type": "markdown",
      "source": [
        "Mount the Google Drive And Other Storages."
      ],
      "metadata": {
        "id": "IRYhAbi9tPXL"
      }
    },
    {
      "cell_type": "code",
      "source": [
        "from google.colab import drive\n",
        "drive.mount('/content/drive')"
      ],
      "metadata": {
        "id": "U10ENbKVtQKH"
      },
      "execution_count": null,
      "outputs": []
    },
    {
      "cell_type": "markdown",
      "source": [],
      "metadata": {
        "id": "DBqpfoOvsfU0"
      }
    },
    {
      "cell_type": "code",
      "execution_count": 1,
      "metadata": {
        "id": "od-FmaaDKFyC",
        "colab": {
          "base_uri": "https://localhost:8080/"
        },
        "outputId": "389df30f-d8f5-430b-daa6-321f4409e1dc"
      },
      "outputs": [
        {
          "output_type": "stream",
          "name": "stdout",
          "text": [
            "/bin/bash\n"
          ]
        }
      ],
      "source": [
        "!echo $SHELL"
      ]
    },
    {
      "cell_type": "code",
      "source": [
        "!cd /home/"
      ],
      "metadata": {
        "id": "sM98Ga5DlXB3"
      },
      "execution_count": 8,
      "outputs": []
    },
    {
      "cell_type": "code",
      "source": [
        "!pwd"
      ],
      "metadata": {
        "colab": {
          "base_uri": "https://localhost:8080/"
        },
        "id": "YTSrKdUymXfu",
        "outputId": "9b1cda63-2166-45dc-8425-0080b2ed4e30"
      },
      "execution_count": 9,
      "outputs": [
        {
          "output_type": "stream",
          "name": "stdout",
          "text": [
            "/home\n"
          ]
        }
      ]
    },
    {
      "cell_type": "code",
      "source": [
        "!ls -la"
      ],
      "metadata": {
        "colab": {
          "base_uri": "https://localhost:8080/"
        },
        "id": "Cg48trSVmXj_",
        "outputId": "2e44d6e9-61be-4206-ccde-f33ba3ad3d0e"
      },
      "execution_count": 10,
      "outputs": [
        {
          "output_type": "stream",
          "name": "stdout",
          "text": [
            "total 8\n",
            "drwxr-xr-x 2 root root 4096 Apr 18  2022 .\n",
            "drwxr-xr-x 1 root root 4096 Feb  7 03:20 ..\n"
          ]
        }
      ]
    },
    {
      "cell_type": "code",
      "source": [
        "!uname -a"
      ],
      "metadata": {
        "colab": {
          "base_uri": "https://localhost:8080/"
        },
        "id": "oYrVOThFmX1Y",
        "outputId": "0b80fd7b-b949-4841-c0d0-c6af4b0354d1"
      },
      "execution_count": 7,
      "outputs": [
        {
          "output_type": "stream",
          "name": "stdout",
          "text": [
            "Linux dc0e44a090bd 6.1.58+ #1 SMP PREEMPT_DYNAMIC Sat Nov 18 15:31:17 UTC 2023 x86_64 x86_64 x86_64 GNU/Linux\n"
          ]
        }
      ]
    },
    {
      "cell_type": "code",
      "source": [
        "!mkdir -vp /ARMGI9854WXZ59M/"
      ],
      "metadata": {
        "colab": {
          "base_uri": "https://localhost:8080/"
        },
        "id": "ScZqLVmmmlps",
        "outputId": "5a8da605-37a2-4296-c343-cc7f9fd70a71"
      },
      "execution_count": 11,
      "outputs": [
        {
          "output_type": "stream",
          "name": "stdout",
          "text": [
            "mkdir: created directory '/ARMGI9854WXZ59M/'\n"
          ]
        }
      ]
    },
    {
      "cell_type": "code",
      "source": [
        "!mkdir -vp /home/armgi9854_wxz59m/"
      ],
      "metadata": {
        "colab": {
          "base_uri": "https://localhost:8080/"
        },
        "id": "UUNVDVx1mluG",
        "outputId": "9a049d5d-145e-420e-a805-1bcb7332d4e6"
      },
      "execution_count": 12,
      "outputs": [
        {
          "output_type": "stream",
          "name": "stdout",
          "text": [
            "mkdir: created directory '/home/armgi9854_wxz59m/'\n"
          ]
        }
      ]
    },
    {
      "cell_type": "code",
      "source": [
        "!lscpu"
      ],
      "metadata": {
        "colab": {
          "base_uri": "https://localhost:8080/"
        },
        "id": "WKsLyD4Mmlyf",
        "outputId": "ba3bc186-7720-41a1-add2-a2166b961a6a"
      },
      "execution_count": 15,
      "outputs": [
        {
          "output_type": "stream",
          "name": "stdout",
          "text": [
            "Architecture:            x86_64\n",
            "  CPU op-mode(s):        32-bit, 64-bit\n",
            "  Address sizes:         46 bits physical, 48 bits virtual\n",
            "  Byte Order:            Little Endian\n",
            "CPU(s):                  2\n",
            "  On-line CPU(s) list:   0,1\n",
            "Vendor ID:               GenuineIntel\n",
            "  Model name:            Intel(R) Xeon(R) CPU @ 2.00GHz\n",
            "    CPU family:          6\n",
            "    Model:               85\n",
            "    Thread(s) per core:  2\n",
            "    Core(s) per socket:  1\n",
            "    Socket(s):           1\n",
            "    Stepping:            3\n",
            "    BogoMIPS:            4000.29\n",
            "    Flags:               fpu vme de pse tsc msr pae mce cx8 apic sep mtrr pge mca cmov pat pse36 clf\n",
            "                         lush mmx fxsr sse sse2 ss ht syscall nx pdpe1gb rdtscp lm constant_tsc rep_\n",
            "                         good nopl xtopology nonstop_tsc cpuid tsc_known_freq pni pclmulqdq ssse3 fm\n",
            "                         a cx16 pcid sse4_1 sse4_2 x2apic movbe popcnt aes xsave avx f16c rdrand hyp\n",
            "                         ervisor lahf_lm abm 3dnowprefetch invpcid_single ssbd ibrs ibpb stibp fsgsb\n",
            "                         ase tsc_adjust bmi1 hle avx2 smep bmi2 erms invpcid rtm mpx avx512f avx512d\n",
            "                         q rdseed adx smap clflushopt clwb avx512cd avx512bw avx512vl xsaveopt xsave\n",
            "                         c xgetbv1 xsaves arat md_clear arch_capabilities\n",
            "Virtualization features: \n",
            "  Hypervisor vendor:     KVM\n",
            "  Virtualization type:   full\n",
            "Caches (sum of all):     \n",
            "  L1d:                   32 KiB (1 instance)\n",
            "  L1i:                   32 KiB (1 instance)\n",
            "  L2:                    1 MiB (1 instance)\n",
            "  L3:                    38.5 MiB (1 instance)\n",
            "NUMA:                    \n",
            "  NUMA node(s):          1\n",
            "  NUMA node0 CPU(s):     0,1\n",
            "Vulnerabilities:         \n",
            "  Gather data sampling:  Not affected\n",
            "  Itlb multihit:         Not affected\n",
            "  L1tf:                  Mitigation; PTE Inversion\n",
            "  Mds:                   Vulnerable; SMT Host state unknown\n",
            "  Meltdown:              Vulnerable\n",
            "  Mmio stale data:       Vulnerable\n",
            "  Retbleed:              Vulnerable\n",
            "  Spec rstack overflow:  Not affected\n",
            "  Spec store bypass:     Vulnerable\n",
            "  Spectre v1:            Vulnerable: __user pointer sanitization and usercopy barriers only; no swap\n",
            "                         gs barriers\n",
            "  Spectre v2:            Vulnerable, IBPB: disabled, STIBP: disabled, PBRSB-eIBRS: Not affected\n",
            "  Srbds:                 Not affected\n",
            "  Tsx async abort:       Vulnerable\n"
          ]
        }
      ]
    },
    {
      "cell_type": "code",
      "source": [
        "!cd /home/armgi9854_wxz59m/ARMGI9854_WXZ59M/WX5_MZ9/"
      ],
      "metadata": {
        "id": "n6NrLEGXml2h"
      },
      "execution_count": 20,
      "outputs": []
    },
    {
      "cell_type": "code",
      "source": [
        "!ls -la"
      ],
      "metadata": {
        "colab": {
          "base_uri": "https://localhost:8080/"
        },
        "id": "L3uHLOzmoHGC",
        "outputId": "1630e038-51b6-4f94-8d75-64ba4f26c217"
      },
      "execution_count": 21,
      "outputs": [
        {
          "output_type": "stream",
          "name": "stdout",
          "text": [
            "total 12\n",
            "drwxr-xr-x 1 root root 4096 Feb  7 03:29 .\n",
            "drwxr-xr-x 1 root root 4096 Feb  7 03:29 ..\n",
            "drwxr-xr-x 4 root root 4096 Feb  7 03:30 armgi9854_wxz59m\n"
          ]
        }
      ]
    },
    {
      "cell_type": "code",
      "source": [],
      "metadata": {
        "id": "QnTHcB9UoHLt"
      },
      "execution_count": null,
      "outputs": []
    },
    {
      "cell_type": "code",
      "source": [],
      "metadata": {
        "id": "ngfFltRSoHRU"
      },
      "execution_count": null,
      "outputs": []
    },
    {
      "cell_type": "code",
      "source": [],
      "metadata": {
        "id": "WfUQBdDboHWz"
      },
      "execution_count": null,
      "outputs": []
    },
    {
      "cell_type": "code",
      "source": [],
      "metadata": {
        "id": "wkLc16Geml6v"
      },
      "execution_count": null,
      "outputs": []
    },
    {
      "cell_type": "code",
      "source": [],
      "metadata": {
        "id": "BdEzV3A_ml-r"
      },
      "execution_count": null,
      "outputs": []
    },
    {
      "cell_type": "code",
      "source": [],
      "metadata": {
        "id": "3Ql1TRj4mX6Z"
      },
      "execution_count": null,
      "outputs": []
    }
  ]
}